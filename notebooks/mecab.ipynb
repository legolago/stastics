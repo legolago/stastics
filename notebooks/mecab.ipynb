{
 "cells": [
  {
   "cell_type": "code",
   "execution_count": 1,
   "id": "a0ef60ca-8599-4aa4-998e-1d307948ae46",
   "metadata": {},
   "outputs": [
    {
     "name": "stdout",
     "output_type": "stream",
     "text": [
      "フォーミュラE\t名詞,固有名詞,一般,*,*,*,フォーミュラE,フォーミュライー,フォーミュライー\n",
      "は\t助詞,係助詞,*,*,*,*,は,ハ,ワ\n",
      "サステナブル\t名詞,固有名詞,一般,*,*,*,Sustainable,サステナブル,サステナブル\n",
      "モータースポーツ\t名詞,一般,*,*,*,*,モータースポーツ,モータースポーツ,モータースポーツ\n",
      "は\t助詞,係助詞,*,*,*,*,は,ハ,ワ\n",
      "走る\t動詞,自立,*,*,五段・ラ行,基本形,走る,ハシル,ハシル\n",
      "実験室\t名詞,固有名詞,一般,*,*,*,実験室,ジッケンシツ,ジッケンシツ\n",
      "です\t助動詞,*,*,*,特殊・デス,基本形,です,デス,デス\n",
      "。\t記号,句点,*,*,*,*,。,。,。\n",
      "最高\t名詞,一般,*,*,*,*,最高,サイコウ,サイコー\n",
      "の\t助詞,連体化,*,*,*,*,の,ノ,ノ\n",
      "品質\t名詞,一般,*,*,*,*,品質,ヒンシツ,ヒンシツ\n",
      "で\t助詞,格助詞,一般,*,*,*,で,デ,デ\n",
      "社会\t名詞,一般,*,*,*,*,社会,シャカイ,シャカイ\n",
      "に\t助詞,格助詞,一般,*,*,*,に,ニ,ニ\n",
      "貢献\t名詞,サ変接続,*,*,*,*,貢献,コウケン,コーケン\n",
      "し\t動詞,自立,*,*,サ変・スル,連用形,する,シ,シ\n",
      "ます\t助動詞,*,*,*,特殊・マス,基本形,ます,マス,マス\n",
      "。\t記号,句点,*,*,*,*,。,。,。\n",
      "EOS\n",
      "\n"
     ]
    }
   ],
   "source": [
    "import MeCab\n",
    "\n",
    "# カスタム辞書を指定してMeCabを初期化\n",
    "def analyze_with_neologd(text):\n",
    "    # NEologd辞書のパスを指定\n",
    "    neologd_path = '/usr/lib/aarch64-linux-gnu/mecab/dic/mecab-ipadic-neologd'\n",
    "    \n",
    "    # NEologd辞書のみを使用（ユーザー辞書なし）\n",
    "    mecab = MeCab.Tagger(f'-d {neologd_path}')\n",
    "    \n",
    "    # 解析実行\n",
    "    parsed = mecab.parse(text)\n",
    "    return parsed\n",
    "\n",
    "# 使用例\n",
    "text = \"フォーミュラEはサステナブルモータースポーツは走る実験室です。最高の品質で社会に貢献します。\"\n",
    "parsed = analyze_with_neologd(text)\n",
    "print(parsed)"
   ]
  },
  {
   "cell_type": "code",
   "execution_count": 2,
   "id": "ae0dbb7f-ef88-4571-b629-95068e862409",
   "metadata": {},
   "outputs": [
    {
     "name": "stdout",
     "output_type": "stream",
     "text": [
      "Found NEologd at: /usr/lib/aarch64-linux-gnu/mecab/dic/mecab-ipadic-neologd\n",
      "MeCab\t名詞,固有名詞,一般,*,*,*,MeCab,メカブ,メカブ\n",
      "で\t助詞,格助詞,一般,*,*,*,で,デ,デ\n",
      "Apple\t名詞,固有名詞,一般,*,*,*,Apple,アップル,アップル\n",
      "新製品\t名詞,一般,*,*,*,*,新製品,シンセイヒン,シンセイヒン\n",
      "の\t助詞,連体化,*,*,*,*,の,ノ,ノ\n",
      "形態素解析\t名詞,固有名詞,一般,*,*,*,形態素解析,ケイタイソカイセキ,ケイタイソカイセキ\n",
      "を\t助詞,格助詞,一般,*,*,*,を,ヲ,ヲ\n",
      "行い\t動詞,自立,*,*,五段・ワ行促音便,連用形,行う,オコナイ,オコナイ\n",
      "ます\t助動詞,*,*,*,特殊・マス,基本形,ます,マス,マス\n",
      "。\t記号,句点,*,*,*,*,。,。,。\n",
      "EOS\n",
      "\n"
     ]
    }
   ],
   "source": [
    "import MeCab\n",
    "import subprocess\n",
    "\n",
    "# 辞書の正確なパスを確認（コマンドの出力を取得）\n",
    "result = subprocess.run([\"find\", \"/\", \"-name\", \"mecab-ipadic-neologd\", \"-type\", \"d\"], \n",
    "                        capture_output=True, text=True)\n",
    "neologd_paths = result.stdout.strip().split('\\n')\n",
    "\n",
    "if neologd_paths and neologd_paths[0]:\n",
    "    # 最初に見つかったパスを使用\n",
    "    neologd_path = neologd_paths[0]\n",
    "    print(f\"Found NEologd at: {neologd_path}\")\n",
    "    \n",
    "    # user.dicを指定せずに辞書だけを指定\n",
    "    mecab = MeCab.Tagger(f\"-d {neologd_path}\")\n",
    "    \n",
    "    text = \"MeCabでApple新製品の形態素解析を行います。\"\n",
    "    print(mecab.parse(text))\n",
    "else:\n",
    "    print(\"NEologd dictionary not found. Please install it first.\")"
   ]
  },
  {
   "cell_type": "code",
   "execution_count": 4,
   "id": "1ff67d29",
   "metadata": {},
   "outputs": [
    {
     "name": "stdout",
     "output_type": "stream",
     "text": [
      "フォーミュラE\t名詞,固有名詞,一般,*,*,*,フォーミュラE,フォーミュライー,フォーミュライー\n",
      "は\t助詞,係助詞,*,*,*,*,は,ハ,ワ\n",
      "サステナブル\t名詞,固有名詞,一般,*,*,*,Sustainable,サステナブル,サステナブル\n",
      "モータースポーツ\t名詞,一般,*,*,*,*,モータースポーツ,モータースポーツ,モータースポーツ\n",
      "は\t助詞,係助詞,*,*,*,*,は,ハ,ワ\n",
      "走る\t動詞,自立,*,*,五段・ラ行,基本形,走る,ハシル,ハシル\n",
      "実験室\t名詞,固有名詞,一般,*,*,*,実験室,ジッケンシツ,ジッケンシツ\n",
      "です\t助動詞,*,*,*,特殊・デス,基本形,です,デス,デス\n",
      "。\t記号,句点,*,*,*,*,。,。,。\n",
      "最高\t名詞,一般,*,*,*,*,最高,サイコウ,サイコー\n",
      "の\t助詞,連体化,*,*,*,*,の,ノ,ノ\n",
      "品質\t名詞,一般,*,*,*,*,品質,ヒンシツ,ヒンシツ\n",
      "で\t助詞,格助詞,一般,*,*,*,で,デ,デ\n",
      "社会\t名詞,一般,*,*,*,*,社会,シャカイ,シャカイ\n",
      "に\t助詞,格助詞,一般,*,*,*,に,ニ,ニ\n",
      "貢献\t名詞,サ変接続,*,*,*,*,貢献,コウケン,コーケン\n",
      "し\t動詞,自立,*,*,サ変・スル,連用形,する,シ,シ\n",
      "ます\t助動詞,*,*,*,特殊・マス,基本形,ます,マス,マス\n",
      "。\t記号,句点,*,*,*,*,。,。,。\n",
      "EOS\n",
      "\n"
     ]
    }
   ],
   "source": [
    "import MeCab\n",
    "\n",
    "# カスタム辞書を指定してMeCabを初期化\n",
    "def analyze_with_custom_neologd(text, userdic=None):\n",
    "    # NEologd辞書のパスを取得\n",
    "    neologd_path = '/usr/lib/aarch64-linux-gnu/mecab/dic/mecab-ipadic-neologd'\n",
    "    \n",
    "    # ユーザー辞書の指定があれば追加\n",
    "    #if userdic:\n",
    "    #    mecab = MeCab.Tagger(f'-d {neologd_path} -u {userdic}')\n",
    "    #else:\n",
    "    #    mecab = MeCab.Tagger(f'-d {neologd_path}')\n",
    "    \n",
    "    # 解析実行\n",
    "    parsed = mecab.parse(text)\n",
    "    return parsed\n",
    "\n",
    "# 使用例\n",
    "text = \"フォーミュラEはサステナブルモータースポーツは走る実験室です。最高の品質で社会に貢献します。\"\n",
    "parsed = analyze_with_custom_neologd(text, userdic='/usr/lib/aarch64-linux-gnu/mecab/dic/mecab-ipadic-neologd/user.dic')\n",
    "print(parsed)"
   ]
  },
  {
   "cell_type": "code",
   "execution_count": 5,
   "id": "b16a9fa6",
   "metadata": {},
   "outputs": [
    {
     "name": "stdout",
     "output_type": "stream",
     "text": [
      "/usr/lib/aarch64-linux-gnu/mecab/dic\n"
     ]
    }
   ],
   "source": [
    "!mecab-config --dicdir"
   ]
  },
  {
   "cell_type": "code",
   "execution_count": 7,
   "id": "45eea5a2",
   "metadata": {},
   "outputs": [
    {
     "name": "stdout",
     "output_type": "stream",
     "text": [
      "NEologd dictionary not found. Using standard dictionary.\n",
      "フォーミュラ\tフォーミュラ\tフォーミュラ\tフォーミュラ-formula\t名詞-普通名詞-一般\t\t\t1\n",
      "E\tE\tE\tE\t名詞-普通名詞-一般\t\t\t0\n",
      "は\tワ\tハ\tは\t助詞-係助詞\t\t\t\n",
      "サステナブル\tサステナブル\tサステイナブル\tサステイナブル\t名詞-普通名詞-一般\t\t\t4\n",
      "モーター\tモーター\tモーター\tモーター-motor\t名詞-普通名詞-一般\t\t\t1,0\n",
      "スポーツ\tスポーツ\tスポーツ\tスポーツ-sport\t名詞-普通名詞-サ変可能\t\t\t2\n",
      "は\tワ\tハ\tは\t助詞-係助詞\t\t\t\n",
      "走る\tハシル\tハシル\t走る\t動詞-一般\t五段-ラ行\t連体形-一般\t2\n",
      "実験\tジッケン\tジッケン\t実験\t名詞-普通名詞-サ変可能\t\t\t0\n",
      "室\tシツ\tシツ\t室\t接尾辞-名詞的-一般\t\t\t\n",
      "です\tデス\tデス\tです\t助動詞\t助動詞-デス\t終止形-一般\t\n",
      "。\t\t\t。\t補助記号-句点\t\t\t\n",
      "最高\tサイコー\tサイコウ\t最高\t名詞-普通名詞-形状詞可能\t\t\t0\n",
      "の\tノ\tノ\tの\t助詞-格助詞\t\t\t\n",
      "品質\tヒンシツ\tヒンシツ\t品質\t名詞-普通名詞-一般\t\t\t0\n",
      "で\tデ\tデ\tで\t助詞-格助詞\t\t\t\n",
      "社会\tシャカイ\tシャカイ\t社会\t名詞-普通名詞-一般\t\t\t1\n",
      "に\tニ\tニ\tに\t助詞-格助詞\t\t\t\n",
      "貢献\tコーケン\tコウケン\t貢献\t名詞-普通名詞-サ変可能\t\t\t0\n",
      "し\tシ\tスル\t為る\t動詞-非自立可能\tサ行変格\t連用形-一般\t0\n",
      "ます\tマス\tマス\tます\t助動詞\t助動詞-マス\t終止形-一般\t\n",
      "。\t\t\t。\t補助記号-句点\t\t\t\n",
      "EOS\n",
      "\n"
     ]
    }
   ],
   "source": [
    "import MeCab\n",
    "import subprocess\n",
    "import os\n",
    "\n",
    "# NEologd辞書の場所を探す関数\n",
    "def find_neologd_dictionary():\n",
    "    try:\n",
    "        # システムで辞書を検索\n",
    "        cmd = \"find / -name 'mecab-ipadic-neologd' -type d 2>/dev/null\"\n",
    "        result = subprocess.check_output(cmd, shell=True, text=True)\n",
    "        paths = result.strip().split('\\n')\n",
    "        \n",
    "        # 有効なパスがあるか確認\n",
    "        valid_paths = [p for p in paths if os.path.exists(p)]\n",
    "        \n",
    "        if valid_paths:\n",
    "            return valid_paths[0]  # 最初の有効なパスを返す\n",
    "        else:\n",
    "            return None\n",
    "    except:\n",
    "        return None\n",
    "\n",
    "# 標準辞書でMeCabを初期化する関数\n",
    "def analyze_with_standard_dic(text):\n",
    "    mecab = MeCab.Tagger(\"\")  # デフォルト辞書を使用\n",
    "    return mecab.parse(text)\n",
    "\n",
    "# NEologd辞書を使用してテキストを解析\n",
    "def analyze_text(text):\n",
    "    # NEologd辞書を探す\n",
    "    neologd_path = find_neologd_dictionary()\n",
    "    \n",
    "    if neologd_path:\n",
    "        print(f\"Found NEologd dictionary at: {neologd_path}\")\n",
    "        try:\n",
    "            # NEologd辞書を使ってMeCabを初期化\n",
    "            mecab = MeCab.Tagger(f'-d {neologd_path}')\n",
    "            return mecab.parse(text)\n",
    "        except Exception as e:\n",
    "            print(f\"Error using NEologd dictionary: {e}\")\n",
    "            print(\"Falling back to standard dictionary...\")\n",
    "            return analyze_with_standard_dic(text)\n",
    "    else:\n",
    "        print(\"NEologd dictionary not found. Using standard dictionary.\")\n",
    "        return analyze_with_standard_dic(text)\n",
    "\n",
    "# 使用例\n",
    "text = \"フォーミュラEはサステナブルモータースポーツは走る実験室です。最高の品質で社会に貢献します。\"\n",
    "parsed = analyze_text(text)\n",
    "print(parsed)"
   ]
  },
  {
   "cell_type": "code",
   "execution_count": null,
   "id": "52c17907",
   "metadata": {},
   "outputs": [],
   "source": []
  }
 ],
 "metadata": {
  "kernelspec": {
   "display_name": "Python 3 (ipykernel)",
   "language": "python",
   "name": "python3"
  },
  "language_info": {
   "codemirror_mode": {
    "name": "ipython",
    "version": 3
   },
   "file_extension": ".py",
   "mimetype": "text/x-python",
   "name": "python",
   "nbconvert_exporter": "python",
   "pygments_lexer": "ipython3",
   "version": "3.11.6"
  }
 },
 "nbformat": 4,
 "nbformat_minor": 5
}
